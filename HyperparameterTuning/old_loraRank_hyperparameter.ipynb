{
  "cells": [
    {
      "cell_type": "code",
      "execution_count": null,
      "metadata": {
        "id": "r62onVy5_OHk"
      },
      "outputs": [],
      "source": [
        "!pip install -q transformers\n",
        "!pip install -q bitsandbytes\n",
        "!pip install -q peft\n",
        "!pip install -q torch\n",
        "!pip install -q accelerate -U"
      ]
    },
    {
      "cell_type": "markdown",
      "source": [
        "# Imports"
      ],
      "metadata": {
        "id": "qeu-l8asFsXy"
      }
    },
    {
      "cell_type": "code",
      "execution_count": null,
      "metadata": {
        "id": "d5xQt51L6l16"
      },
      "outputs": [],
      "source": [
        "\n",
        "from transformers import TextDataset, DataCollatorForLanguageModeling\n",
        "from transformers import GPT2Tokenizer, GPT2LMHeadModel\n",
        "from transformers import Trainer, TrainingArguments\n",
        "from sklearn.model_selection import train_test_split\n",
        "from transformers import set_seed\n",
        "from peft import LoraConfig, get_peft_model\n",
        "\n",
        "import matplotlib.pyplot as plt\n",
        "import os\n",
        "import numpy as np\n",
        "import torch\n",
        "import torch.nn as nn\n",
        "import bitsandbytes as bnb\n",
        "import transformers\n",
        "import peft"
      ]
    },
    {
      "cell_type": "markdown",
      "source": [
        "# Setting Up Model"
      ],
      "metadata": {
        "id": "NxWL9mLQFx5x"
      }
    },
    {
      "cell_type": "code",
      "execution_count": null,
      "metadata": {
        "id": "oNOQfYAf-5Jr"
      },
      "outputs": [],
      "source": [
        "tokenizer = GPT2Tokenizer.from_pretrained(\"gpt2\")\n",
        "tokenizer.pad_token = tokenizer.eos_token"
      ]
    },
    {
      "cell_type": "code",
      "execution_count": null,
      "metadata": {
        "id": "CUB3L1Rl_ybl"
      },
      "outputs": [],
      "source": [
        "data = []\n",
        "with open(\"parsed_quotes_context.txt\") as sherlock_quotes_file:\n",
        "    lines = sherlock_quotes_file.readlines()\n",
        "    for i in range(0, len(lines), 3):\n",
        "        if i + 1 < len(lines):\n",
        "            concatenated_lines = f\"{lines[i].strip()} ->: {lines[i+1].strip()}\"\n",
        "            data.append(concatenated_lines)"
      ]
    },
    {
      "cell_type": "code",
      "execution_count": null,
      "metadata": {
        "id": "O1aJ3HsbDM4Y"
      },
      "outputs": [],
      "source": [
        "train_data, val_data = train_test_split(data, test_size=0.2, random_state=50)\n",
        "\n",
        "train_data = [tokenizer(line) for line in train_data]\n",
        "val_data = [tokenizer(line) for line in val_data]"
      ]
    },
    {
      "cell_type": "code",
      "source": [
        "class CastOutputToFloat(nn.Sequential):\n",
        "    def forward(self, x): return super().forward(x).to(torch.float32)"
      ],
      "metadata": {
        "id": "q19wPyYApoW6"
      },
      "execution_count": null,
      "outputs": []
    },
    {
      "cell_type": "code",
      "source": [
        "hyperparams = [2, 4, 16, 64, 128, 256]\n",
        "validation_losses = {x: [] for x in hyperparams} # {hyperparam_value: validation_losses}\n",
        "training_losses = {x: [] for x in hyperparams} # {hyperparam_value: training_losses}"
      ],
      "metadata": {
        "id": "R7vgG7rOt5ld"
      },
      "execution_count": null,
      "outputs": []
    },
    {
      "cell_type": "markdown",
      "source": [
        "# Training Model"
      ],
      "metadata": {
        "id": "aA1CthrrF2Ax"
      }
    },
    {
      "cell_type": "code",
      "source": [
        "def print_trainable_parameters(model):\n",
        "    trainable_params = 0\n",
        "    all_param = 0\n",
        "    for _, param in model.named_parameters():\n",
        "        all_param += param.numel()\n",
        "        if param.requires_grad:\n",
        "            trainable_params += param.numel()\n",
        "    print(\n",
        "        f\"trainable params: {trainable_params} || all params: {all_param} || trainable%: {100 * trainable_params / all_param}\"\n",
        "    )\n",
        "    return [f\"{100 * trainable_params / all_param}\", f\"{trainable_params}\"]\n",
        "\n",
        "numParamsInfo = {}\n",
        "numParamsTrained = {}"
      ],
      "metadata": {
        "id": "RmeMsQaOaF6C"
      },
      "execution_count": null,
      "outputs": []
    },
    {
      "cell_type": "code",
      "execution_count": null,
      "metadata": {
        "colab": {
          "base_uri": "https://localhost:8080/",
          "height": 1000
        },
        "id": "fjFhmMBMDRnZ",
        "outputId": "e29e5310-d5ee-4e7b-dba3-f0931fecfabf"
      },
      "outputs": [
        {
          "output_type": "stream",
          "name": "stderr",
          "text": [
            "/usr/local/lib/python3.10/dist-packages/peft/tuners/lora/model.py:311: UserWarning: fan_in_fan_out is set to False but the target module is `Conv1D`. Setting fan_in_fan_out to True.\n",
            "  warnings.warn(\n",
            "/usr/local/lib/python3.10/dist-packages/torch/utils/checkpoint.py:429: UserWarning: torch.utils.checkpoint: please pass in use_reentrant=True or use_reentrant=False explicitly. The default value of use_reentrant will be updated to be False in the future. To maintain current behavior, pass use_reentrant=True. It is recommended that you use use_reentrant=False. Refer to docs for more details on the differences between the two variants.\n",
            "  warnings.warn(\n"
          ]
        },
        {
          "output_type": "display_data",
          "data": {
            "text/plain": [
              "<IPython.core.display.HTML object>"
            ],
            "text/html": [
              "\n",
              "    <div>\n",
              "      \n",
              "      <progress value='400' max='400' style='width:300px; height:20px; vertical-align: middle;'></progress>\n",
              "      [400/400 02:57, Epoch 9/10]\n",
              "    </div>\n",
              "    <table border=\"1\" class=\"dataframe\">\n",
              "  <thead>\n",
              " <tr style=\"text-align: left;\">\n",
              "      <th>Step</th>\n",
              "      <th>Training Loss</th>\n",
              "      <th>Validation Loss</th>\n",
              "    </tr>\n",
              "  </thead>\n",
              "  <tbody>\n",
              "    <tr>\n",
              "      <td>20</td>\n",
              "      <td>4.516300</td>\n",
              "      <td>4.152069</td>\n",
              "    </tr>\n",
              "    <tr>\n",
              "      <td>40</td>\n",
              "      <td>4.356300</td>\n",
              "      <td>4.011637</td>\n",
              "    </tr>\n",
              "    <tr>\n",
              "      <td>60</td>\n",
              "      <td>3.937600</td>\n",
              "      <td>3.771014</td>\n",
              "    </tr>\n",
              "    <tr>\n",
              "      <td>80</td>\n",
              "      <td>3.751600</td>\n",
              "      <td>3.573609</td>\n",
              "    </tr>\n",
              "    <tr>\n",
              "      <td>100</td>\n",
              "      <td>3.623700</td>\n",
              "      <td>3.508193</td>\n",
              "    </tr>\n",
              "    <tr>\n",
              "      <td>120</td>\n",
              "      <td>3.458000</td>\n",
              "      <td>3.476285</td>\n",
              "    </tr>\n",
              "    <tr>\n",
              "      <td>140</td>\n",
              "      <td>3.536300</td>\n",
              "      <td>3.459256</td>\n",
              "    </tr>\n",
              "    <tr>\n",
              "      <td>160</td>\n",
              "      <td>3.478600</td>\n",
              "      <td>3.444040</td>\n",
              "    </tr>\n",
              "    <tr>\n",
              "      <td>180</td>\n",
              "      <td>3.594700</td>\n",
              "      <td>3.432877</td>\n",
              "    </tr>\n",
              "    <tr>\n",
              "      <td>200</td>\n",
              "      <td>3.385900</td>\n",
              "      <td>3.428982</td>\n",
              "    </tr>\n",
              "    <tr>\n",
              "      <td>220</td>\n",
              "      <td>3.644900</td>\n",
              "      <td>3.425900</td>\n",
              "    </tr>\n",
              "    <tr>\n",
              "      <td>240</td>\n",
              "      <td>3.242000</td>\n",
              "      <td>3.419851</td>\n",
              "    </tr>\n",
              "    <tr>\n",
              "      <td>260</td>\n",
              "      <td>3.330600</td>\n",
              "      <td>3.409295</td>\n",
              "    </tr>\n",
              "    <tr>\n",
              "      <td>280</td>\n",
              "      <td>3.340900</td>\n",
              "      <td>3.407984</td>\n",
              "    </tr>\n",
              "    <tr>\n",
              "      <td>300</td>\n",
              "      <td>3.567400</td>\n",
              "      <td>3.405375</td>\n",
              "    </tr>\n",
              "    <tr>\n",
              "      <td>320</td>\n",
              "      <td>3.428700</td>\n",
              "      <td>3.401952</td>\n",
              "    </tr>\n",
              "    <tr>\n",
              "      <td>340</td>\n",
              "      <td>3.314100</td>\n",
              "      <td>3.399114</td>\n",
              "    </tr>\n",
              "    <tr>\n",
              "      <td>360</td>\n",
              "      <td>3.599900</td>\n",
              "      <td>3.400020</td>\n",
              "    </tr>\n",
              "    <tr>\n",
              "      <td>380</td>\n",
              "      <td>3.383200</td>\n",
              "      <td>3.399757</td>\n",
              "    </tr>\n",
              "    <tr>\n",
              "      <td>400</td>\n",
              "      <td>3.516100</td>\n",
              "      <td>3.399502</td>\n",
              "    </tr>\n",
              "  </tbody>\n",
              "</table><p>"
            ]
          },
          "metadata": {}
        },
        {
          "output_type": "stream",
          "name": "stderr",
          "text": [
            "/usr/local/lib/python3.10/dist-packages/torch/utils/checkpoint.py:429: UserWarning: torch.utils.checkpoint: please pass in use_reentrant=True or use_reentrant=False explicitly. The default value of use_reentrant will be updated to be False in the future. To maintain current behavior, pass use_reentrant=True. It is recommended that you use use_reentrant=False. Refer to docs for more details on the differences between the two variants.\n",
            "  warnings.warn(\n"
          ]
        },
        {
          "output_type": "stream",
          "name": "stdout",
          "text": [
            "trainable params: 73728 || all params: 124513536 || trainable%: 0.05921283931732531\n"
          ]
        },
        {
          "output_type": "stream",
          "name": "stderr",
          "text": [
            "/usr/local/lib/python3.10/dist-packages/peft/tuners/lora/model.py:311: UserWarning: fan_in_fan_out is set to False but the target module is `Conv1D`. Setting fan_in_fan_out to True.\n",
            "  warnings.warn(\n"
          ]
        },
        {
          "output_type": "display_data",
          "data": {
            "text/plain": [
              "<IPython.core.display.HTML object>"
            ],
            "text/html": [
              "\n",
              "    <div>\n",
              "      \n",
              "      <progress value='400' max='400' style='width:300px; height:20px; vertical-align: middle;'></progress>\n",
              "      [400/400 02:41, Epoch 9/10]\n",
              "    </div>\n",
              "    <table border=\"1\" class=\"dataframe\">\n",
              "  <thead>\n",
              " <tr style=\"text-align: left;\">\n",
              "      <th>Step</th>\n",
              "      <th>Training Loss</th>\n",
              "      <th>Validation Loss</th>\n",
              "    </tr>\n",
              "  </thead>\n",
              "  <tbody>\n",
              "    <tr>\n",
              "      <td>20</td>\n",
              "      <td>4.508600</td>\n",
              "      <td>4.147457</td>\n",
              "    </tr>\n",
              "    <tr>\n",
              "      <td>40</td>\n",
              "      <td>4.325500</td>\n",
              "      <td>4.000975</td>\n",
              "    </tr>\n",
              "    <tr>\n",
              "      <td>60</td>\n",
              "      <td>3.926700</td>\n",
              "      <td>3.760993</td>\n",
              "    </tr>\n",
              "    <tr>\n",
              "      <td>80</td>\n",
              "      <td>3.746200</td>\n",
              "      <td>3.579513</td>\n",
              "    </tr>\n",
              "    <tr>\n",
              "      <td>100</td>\n",
              "      <td>3.651700</td>\n",
              "      <td>3.509679</td>\n",
              "    </tr>\n",
              "    <tr>\n",
              "      <td>120</td>\n",
              "      <td>3.470900</td>\n",
              "      <td>3.478692</td>\n",
              "    </tr>\n",
              "    <tr>\n",
              "      <td>140</td>\n",
              "      <td>3.531000</td>\n",
              "      <td>3.456392</td>\n",
              "    </tr>\n",
              "    <tr>\n",
              "      <td>160</td>\n",
              "      <td>3.469000</td>\n",
              "      <td>3.443127</td>\n",
              "    </tr>\n",
              "    <tr>\n",
              "      <td>180</td>\n",
              "      <td>3.588400</td>\n",
              "      <td>3.431257</td>\n",
              "    </tr>\n",
              "    <tr>\n",
              "      <td>200</td>\n",
              "      <td>3.388200</td>\n",
              "      <td>3.429901</td>\n",
              "    </tr>\n",
              "    <tr>\n",
              "      <td>220</td>\n",
              "      <td>3.619200</td>\n",
              "      <td>3.424646</td>\n",
              "    </tr>\n",
              "    <tr>\n",
              "      <td>240</td>\n",
              "      <td>3.227200</td>\n",
              "      <td>3.416120</td>\n",
              "    </tr>\n",
              "    <tr>\n",
              "      <td>260</td>\n",
              "      <td>3.323200</td>\n",
              "      <td>3.407446</td>\n",
              "    </tr>\n",
              "    <tr>\n",
              "      <td>280</td>\n",
              "      <td>3.334400</td>\n",
              "      <td>3.402185</td>\n",
              "    </tr>\n",
              "    <tr>\n",
              "      <td>300</td>\n",
              "      <td>3.559400</td>\n",
              "      <td>3.403467</td>\n",
              "    </tr>\n",
              "    <tr>\n",
              "      <td>320</td>\n",
              "      <td>3.429800</td>\n",
              "      <td>3.400695</td>\n",
              "    </tr>\n",
              "    <tr>\n",
              "      <td>340</td>\n",
              "      <td>3.289400</td>\n",
              "      <td>3.394493</td>\n",
              "    </tr>\n",
              "    <tr>\n",
              "      <td>360</td>\n",
              "      <td>3.599900</td>\n",
              "      <td>3.397197</td>\n",
              "    </tr>\n",
              "    <tr>\n",
              "      <td>380</td>\n",
              "      <td>3.375600</td>\n",
              "      <td>3.396110</td>\n",
              "    </tr>\n",
              "    <tr>\n",
              "      <td>400</td>\n",
              "      <td>3.502600</td>\n",
              "      <td>3.396218</td>\n",
              "    </tr>\n",
              "  </tbody>\n",
              "</table><p>"
            ]
          },
          "metadata": {}
        },
        {
          "output_type": "stream",
          "name": "stderr",
          "text": [
            "/usr/local/lib/python3.10/dist-packages/torch/utils/checkpoint.py:429: UserWarning: torch.utils.checkpoint: please pass in use_reentrant=True or use_reentrant=False explicitly. The default value of use_reentrant will be updated to be False in the future. To maintain current behavior, pass use_reentrant=True. It is recommended that you use use_reentrant=False. Refer to docs for more details on the differences between the two variants.\n",
            "  warnings.warn(\n"
          ]
        },
        {
          "output_type": "stream",
          "name": "stdout",
          "text": [
            "trainable params: 147456 || all params: 124587264 || trainable%: 0.11835559692522023\n"
          ]
        },
        {
          "output_type": "stream",
          "name": "stderr",
          "text": [
            "/usr/local/lib/python3.10/dist-packages/peft/tuners/lora/model.py:311: UserWarning: fan_in_fan_out is set to False but the target module is `Conv1D`. Setting fan_in_fan_out to True.\n",
            "  warnings.warn(\n"
          ]
        },
        {
          "output_type": "display_data",
          "data": {
            "text/plain": [
              "<IPython.core.display.HTML object>"
            ],
            "text/html": [
              "\n",
              "    <div>\n",
              "      \n",
              "      <progress value='400' max='400' style='width:300px; height:20px; vertical-align: middle;'></progress>\n",
              "      [400/400 02:41, Epoch 9/10]\n",
              "    </div>\n",
              "    <table border=\"1\" class=\"dataframe\">\n",
              "  <thead>\n",
              " <tr style=\"text-align: left;\">\n",
              "      <th>Step</th>\n",
              "      <th>Training Loss</th>\n",
              "      <th>Validation Loss</th>\n",
              "    </tr>\n",
              "  </thead>\n",
              "  <tbody>\n",
              "    <tr>\n",
              "      <td>20</td>\n",
              "      <td>4.505900</td>\n",
              "      <td>4.145595</td>\n",
              "    </tr>\n",
              "    <tr>\n",
              "      <td>40</td>\n",
              "      <td>4.329800</td>\n",
              "      <td>4.001714</td>\n",
              "    </tr>\n",
              "    <tr>\n",
              "      <td>60</td>\n",
              "      <td>3.910600</td>\n",
              "      <td>3.753450</td>\n",
              "    </tr>\n",
              "    <tr>\n",
              "      <td>80</td>\n",
              "      <td>3.725700</td>\n",
              "      <td>3.569432</td>\n",
              "    </tr>\n",
              "    <tr>\n",
              "      <td>100</td>\n",
              "      <td>3.639000</td>\n",
              "      <td>3.502059</td>\n",
              "    </tr>\n",
              "    <tr>\n",
              "      <td>120</td>\n",
              "      <td>3.442900</td>\n",
              "      <td>3.472118</td>\n",
              "    </tr>\n",
              "    <tr>\n",
              "      <td>140</td>\n",
              "      <td>3.508900</td>\n",
              "      <td>3.450035</td>\n",
              "    </tr>\n",
              "    <tr>\n",
              "      <td>160</td>\n",
              "      <td>3.452400</td>\n",
              "      <td>3.436364</td>\n",
              "    </tr>\n",
              "    <tr>\n",
              "      <td>180</td>\n",
              "      <td>3.570600</td>\n",
              "      <td>3.426303</td>\n",
              "    </tr>\n",
              "    <tr>\n",
              "      <td>200</td>\n",
              "      <td>3.362300</td>\n",
              "      <td>3.424203</td>\n",
              "    </tr>\n",
              "    <tr>\n",
              "      <td>220</td>\n",
              "      <td>3.625800</td>\n",
              "      <td>3.418107</td>\n",
              "    </tr>\n",
              "    <tr>\n",
              "      <td>240</td>\n",
              "      <td>3.203700</td>\n",
              "      <td>3.410108</td>\n",
              "    </tr>\n",
              "    <tr>\n",
              "      <td>260</td>\n",
              "      <td>3.307600</td>\n",
              "      <td>3.401242</td>\n",
              "    </tr>\n",
              "    <tr>\n",
              "      <td>280</td>\n",
              "      <td>3.309300</td>\n",
              "      <td>3.398206</td>\n",
              "    </tr>\n",
              "    <tr>\n",
              "      <td>300</td>\n",
              "      <td>3.533700</td>\n",
              "      <td>3.397193</td>\n",
              "    </tr>\n",
              "    <tr>\n",
              "      <td>320</td>\n",
              "      <td>3.411000</td>\n",
              "      <td>3.394009</td>\n",
              "    </tr>\n",
              "    <tr>\n",
              "      <td>340</td>\n",
              "      <td>3.278500</td>\n",
              "      <td>3.389576</td>\n",
              "    </tr>\n",
              "    <tr>\n",
              "      <td>360</td>\n",
              "      <td>3.574700</td>\n",
              "      <td>3.391748</td>\n",
              "    </tr>\n",
              "    <tr>\n",
              "      <td>380</td>\n",
              "      <td>3.338500</td>\n",
              "      <td>3.389703</td>\n",
              "    </tr>\n",
              "    <tr>\n",
              "      <td>400</td>\n",
              "      <td>3.485500</td>\n",
              "      <td>3.389394</td>\n",
              "    </tr>\n",
              "  </tbody>\n",
              "</table><p>"
            ]
          },
          "metadata": {}
        },
        {
          "output_type": "stream",
          "name": "stderr",
          "text": [
            "/usr/local/lib/python3.10/dist-packages/torch/utils/checkpoint.py:429: UserWarning: torch.utils.checkpoint: please pass in use_reentrant=True or use_reentrant=False explicitly. The default value of use_reentrant will be updated to be False in the future. To maintain current behavior, pass use_reentrant=True. It is recommended that you use use_reentrant=False. Refer to docs for more details on the differences between the two variants.\n",
            "  warnings.warn(\n"
          ]
        },
        {
          "output_type": "stream",
          "name": "stdout",
          "text": [
            "trainable params: 589824 || all params: 125029632 || trainable%: 0.4717473694555863\n"
          ]
        },
        {
          "output_type": "stream",
          "name": "stderr",
          "text": [
            "/usr/local/lib/python3.10/dist-packages/peft/tuners/lora/model.py:311: UserWarning: fan_in_fan_out is set to False but the target module is `Conv1D`. Setting fan_in_fan_out to True.\n",
            "  warnings.warn(\n"
          ]
        },
        {
          "output_type": "display_data",
          "data": {
            "text/plain": [
              "<IPython.core.display.HTML object>"
            ],
            "text/html": [
              "\n",
              "    <div>\n",
              "      \n",
              "      <progress value='400' max='400' style='width:300px; height:20px; vertical-align: middle;'></progress>\n",
              "      [400/400 02:40, Epoch 9/10]\n",
              "    </div>\n",
              "    <table border=\"1\" class=\"dataframe\">\n",
              "  <thead>\n",
              " <tr style=\"text-align: left;\">\n",
              "      <th>Step</th>\n",
              "      <th>Training Loss</th>\n",
              "      <th>Validation Loss</th>\n",
              "    </tr>\n",
              "  </thead>\n",
              "  <tbody>\n",
              "    <tr>\n",
              "      <td>20</td>\n",
              "      <td>4.510600</td>\n",
              "      <td>4.147759</td>\n",
              "    </tr>\n",
              "    <tr>\n",
              "      <td>40</td>\n",
              "      <td>4.343000</td>\n",
              "      <td>4.009735</td>\n",
              "    </tr>\n",
              "    <tr>\n",
              "      <td>60</td>\n",
              "      <td>3.918000</td>\n",
              "      <td>3.756588</td>\n",
              "    </tr>\n",
              "    <tr>\n",
              "      <td>80</td>\n",
              "      <td>3.730500</td>\n",
              "      <td>3.566791</td>\n",
              "    </tr>\n",
              "    <tr>\n",
              "      <td>100</td>\n",
              "      <td>3.637300</td>\n",
              "      <td>3.501119</td>\n",
              "    </tr>\n",
              "    <tr>\n",
              "      <td>120</td>\n",
              "      <td>3.442300</td>\n",
              "      <td>3.469845</td>\n",
              "    </tr>\n",
              "    <tr>\n",
              "      <td>140</td>\n",
              "      <td>3.515700</td>\n",
              "      <td>3.449327</td>\n",
              "    </tr>\n",
              "    <tr>\n",
              "      <td>160</td>\n",
              "      <td>3.452800</td>\n",
              "      <td>3.435169</td>\n",
              "    </tr>\n",
              "    <tr>\n",
              "      <td>180</td>\n",
              "      <td>3.565500</td>\n",
              "      <td>3.422712</td>\n",
              "    </tr>\n",
              "    <tr>\n",
              "      <td>200</td>\n",
              "      <td>3.361600</td>\n",
              "      <td>3.421609</td>\n",
              "    </tr>\n",
              "    <tr>\n",
              "      <td>220</td>\n",
              "      <td>3.613500</td>\n",
              "      <td>3.414469</td>\n",
              "    </tr>\n",
              "    <tr>\n",
              "      <td>240</td>\n",
              "      <td>3.203200</td>\n",
              "      <td>3.406027</td>\n",
              "    </tr>\n",
              "    <tr>\n",
              "      <td>260</td>\n",
              "      <td>3.298400</td>\n",
              "      <td>3.398255</td>\n",
              "    </tr>\n",
              "    <tr>\n",
              "      <td>280</td>\n",
              "      <td>3.303500</td>\n",
              "      <td>3.394076</td>\n",
              "    </tr>\n",
              "    <tr>\n",
              "      <td>300</td>\n",
              "      <td>3.533900</td>\n",
              "      <td>3.394190</td>\n",
              "    </tr>\n",
              "    <tr>\n",
              "      <td>320</td>\n",
              "      <td>3.404900</td>\n",
              "      <td>3.390769</td>\n",
              "    </tr>\n",
              "    <tr>\n",
              "      <td>340</td>\n",
              "      <td>3.259500</td>\n",
              "      <td>3.385803</td>\n",
              "    </tr>\n",
              "    <tr>\n",
              "      <td>360</td>\n",
              "      <td>3.565100</td>\n",
              "      <td>3.386978</td>\n",
              "    </tr>\n",
              "    <tr>\n",
              "      <td>380</td>\n",
              "      <td>3.338000</td>\n",
              "      <td>3.385406</td>\n",
              "    </tr>\n",
              "    <tr>\n",
              "      <td>400</td>\n",
              "      <td>3.475700</td>\n",
              "      <td>3.385838</td>\n",
              "    </tr>\n",
              "  </tbody>\n",
              "</table><p>"
            ]
          },
          "metadata": {}
        },
        {
          "output_type": "stream",
          "name": "stderr",
          "text": [
            "/usr/local/lib/python3.10/dist-packages/torch/utils/checkpoint.py:429: UserWarning: torch.utils.checkpoint: please pass in use_reentrant=True or use_reentrant=False explicitly. The default value of use_reentrant will be updated to be False in the future. To maintain current behavior, pass use_reentrant=True. It is recommended that you use use_reentrant=False. Refer to docs for more details on the differences between the two variants.\n",
            "  warnings.warn(\n"
          ]
        },
        {
          "output_type": "stream",
          "name": "stdout",
          "text": [
            "trainable params: 2359296 || all params: 126799104 || trainable%: 1.8606566809809635\n"
          ]
        },
        {
          "output_type": "stream",
          "name": "stderr",
          "text": [
            "/usr/local/lib/python3.10/dist-packages/peft/tuners/lora/model.py:311: UserWarning: fan_in_fan_out is set to False but the target module is `Conv1D`. Setting fan_in_fan_out to True.\n",
            "  warnings.warn(\n"
          ]
        },
        {
          "output_type": "display_data",
          "data": {
            "text/plain": [
              "<IPython.core.display.HTML object>"
            ],
            "text/html": [
              "\n",
              "    <div>\n",
              "      \n",
              "      <progress value='400' max='400' style='width:300px; height:20px; vertical-align: middle;'></progress>\n",
              "      [400/400 02:41, Epoch 9/10]\n",
              "    </div>\n",
              "    <table border=\"1\" class=\"dataframe\">\n",
              "  <thead>\n",
              " <tr style=\"text-align: left;\">\n",
              "      <th>Step</th>\n",
              "      <th>Training Loss</th>\n",
              "      <th>Validation Loss</th>\n",
              "    </tr>\n",
              "  </thead>\n",
              "  <tbody>\n",
              "    <tr>\n",
              "      <td>20</td>\n",
              "      <td>4.508100</td>\n",
              "      <td>4.147072</td>\n",
              "    </tr>\n",
              "    <tr>\n",
              "      <td>40</td>\n",
              "      <td>4.336700</td>\n",
              "      <td>4.007051</td>\n",
              "    </tr>\n",
              "    <tr>\n",
              "      <td>60</td>\n",
              "      <td>3.914300</td>\n",
              "      <td>3.754916</td>\n",
              "    </tr>\n",
              "    <tr>\n",
              "      <td>80</td>\n",
              "      <td>3.728100</td>\n",
              "      <td>3.566440</td>\n",
              "    </tr>\n",
              "    <tr>\n",
              "      <td>100</td>\n",
              "      <td>3.639800</td>\n",
              "      <td>3.501182</td>\n",
              "    </tr>\n",
              "    <tr>\n",
              "      <td>120</td>\n",
              "      <td>3.440500</td>\n",
              "      <td>3.470449</td>\n",
              "    </tr>\n",
              "    <tr>\n",
              "      <td>140</td>\n",
              "      <td>3.518100</td>\n",
              "      <td>3.449497</td>\n",
              "    </tr>\n",
              "    <tr>\n",
              "      <td>160</td>\n",
              "      <td>3.452400</td>\n",
              "      <td>3.434984</td>\n",
              "    </tr>\n",
              "    <tr>\n",
              "      <td>180</td>\n",
              "      <td>3.569600</td>\n",
              "      <td>3.423257</td>\n",
              "    </tr>\n",
              "    <tr>\n",
              "      <td>200</td>\n",
              "      <td>3.364400</td>\n",
              "      <td>3.422977</td>\n",
              "    </tr>\n",
              "    <tr>\n",
              "      <td>220</td>\n",
              "      <td>3.612300</td>\n",
              "      <td>3.415639</td>\n",
              "    </tr>\n",
              "    <tr>\n",
              "      <td>240</td>\n",
              "      <td>3.206600</td>\n",
              "      <td>3.405879</td>\n",
              "    </tr>\n",
              "    <tr>\n",
              "      <td>260</td>\n",
              "      <td>3.296700</td>\n",
              "      <td>3.398346</td>\n",
              "    </tr>\n",
              "    <tr>\n",
              "      <td>280</td>\n",
              "      <td>3.306600</td>\n",
              "      <td>3.393794</td>\n",
              "    </tr>\n",
              "    <tr>\n",
              "      <td>300</td>\n",
              "      <td>3.538400</td>\n",
              "      <td>3.393480</td>\n",
              "    </tr>\n",
              "    <tr>\n",
              "      <td>320</td>\n",
              "      <td>3.401900</td>\n",
              "      <td>3.389576</td>\n",
              "    </tr>\n",
              "    <tr>\n",
              "      <td>340</td>\n",
              "      <td>3.265200</td>\n",
              "      <td>3.384866</td>\n",
              "    </tr>\n",
              "    <tr>\n",
              "      <td>360</td>\n",
              "      <td>3.564000</td>\n",
              "      <td>3.386142</td>\n",
              "    </tr>\n",
              "    <tr>\n",
              "      <td>380</td>\n",
              "      <td>3.335000</td>\n",
              "      <td>3.384880</td>\n",
              "    </tr>\n",
              "    <tr>\n",
              "      <td>400</td>\n",
              "      <td>3.476400</td>\n",
              "      <td>3.385155</td>\n",
              "    </tr>\n",
              "  </tbody>\n",
              "</table><p>"
            ]
          },
          "metadata": {}
        },
        {
          "output_type": "stream",
          "name": "stderr",
          "text": [
            "/usr/local/lib/python3.10/dist-packages/torch/utils/checkpoint.py:429: UserWarning: torch.utils.checkpoint: please pass in use_reentrant=True or use_reentrant=False explicitly. The default value of use_reentrant will be updated to be False in the future. To maintain current behavior, pass use_reentrant=True. It is recommended that you use use_reentrant=False. Refer to docs for more details on the differences between the two variants.\n",
            "  warnings.warn(\n"
          ]
        },
        {
          "output_type": "stream",
          "name": "stdout",
          "text": [
            "trainable params: 4718592 || all params: 129158400 || trainable%: 3.653337297458005\n"
          ]
        },
        {
          "output_type": "stream",
          "name": "stderr",
          "text": [
            "/usr/local/lib/python3.10/dist-packages/peft/tuners/lora/model.py:311: UserWarning: fan_in_fan_out is set to False but the target module is `Conv1D`. Setting fan_in_fan_out to True.\n",
            "  warnings.warn(\n"
          ]
        },
        {
          "output_type": "display_data",
          "data": {
            "text/plain": [
              "<IPython.core.display.HTML object>"
            ],
            "text/html": [
              "\n",
              "    <div>\n",
              "      \n",
              "      <progress value='400' max='400' style='width:300px; height:20px; vertical-align: middle;'></progress>\n",
              "      [400/400 02:42, Epoch 9/10]\n",
              "    </div>\n",
              "    <table border=\"1\" class=\"dataframe\">\n",
              "  <thead>\n",
              " <tr style=\"text-align: left;\">\n",
              "      <th>Step</th>\n",
              "      <th>Training Loss</th>\n",
              "      <th>Validation Loss</th>\n",
              "    </tr>\n",
              "  </thead>\n",
              "  <tbody>\n",
              "    <tr>\n",
              "      <td>20</td>\n",
              "      <td>4.506200</td>\n",
              "      <td>4.146178</td>\n",
              "    </tr>\n",
              "    <tr>\n",
              "      <td>40</td>\n",
              "      <td>4.336000</td>\n",
              "      <td>4.006992</td>\n",
              "    </tr>\n",
              "    <tr>\n",
              "      <td>60</td>\n",
              "      <td>3.913500</td>\n",
              "      <td>3.754948</td>\n",
              "    </tr>\n",
              "    <tr>\n",
              "      <td>80</td>\n",
              "      <td>3.725100</td>\n",
              "      <td>3.566340</td>\n",
              "    </tr>\n",
              "    <tr>\n",
              "      <td>100</td>\n",
              "      <td>3.634800</td>\n",
              "      <td>3.500535</td>\n",
              "    </tr>\n",
              "    <tr>\n",
              "      <td>120</td>\n",
              "      <td>3.441100</td>\n",
              "      <td>3.470321</td>\n",
              "    </tr>\n",
              "    <tr>\n",
              "      <td>140</td>\n",
              "      <td>3.514800</td>\n",
              "      <td>3.449536</td>\n",
              "    </tr>\n",
              "    <tr>\n",
              "      <td>160</td>\n",
              "      <td>3.455700</td>\n",
              "      <td>3.434499</td>\n",
              "    </tr>\n",
              "    <tr>\n",
              "      <td>180</td>\n",
              "      <td>3.569900</td>\n",
              "      <td>3.424003</td>\n",
              "    </tr>\n",
              "    <tr>\n",
              "      <td>200</td>\n",
              "      <td>3.362500</td>\n",
              "      <td>3.423321</td>\n",
              "    </tr>\n",
              "    <tr>\n",
              "      <td>220</td>\n",
              "      <td>3.610800</td>\n",
              "      <td>3.415353</td>\n",
              "    </tr>\n",
              "    <tr>\n",
              "      <td>240</td>\n",
              "      <td>3.203400</td>\n",
              "      <td>3.405909</td>\n",
              "    </tr>\n",
              "    <tr>\n",
              "      <td>260</td>\n",
              "      <td>3.297400</td>\n",
              "      <td>3.398702</td>\n",
              "    </tr>\n",
              "    <tr>\n",
              "      <td>280</td>\n",
              "      <td>3.306700</td>\n",
              "      <td>3.394419</td>\n",
              "    </tr>\n",
              "    <tr>\n",
              "      <td>300</td>\n",
              "      <td>3.532500</td>\n",
              "      <td>3.393801</td>\n",
              "    </tr>\n",
              "    <tr>\n",
              "      <td>320</td>\n",
              "      <td>3.404300</td>\n",
              "      <td>3.389698</td>\n",
              "    </tr>\n",
              "    <tr>\n",
              "      <td>340</td>\n",
              "      <td>3.260900</td>\n",
              "      <td>3.385228</td>\n",
              "    </tr>\n",
              "    <tr>\n",
              "      <td>360</td>\n",
              "      <td>3.559800</td>\n",
              "      <td>3.386398</td>\n",
              "    </tr>\n",
              "    <tr>\n",
              "      <td>380</td>\n",
              "      <td>3.336200</td>\n",
              "      <td>3.385443</td>\n",
              "    </tr>\n",
              "    <tr>\n",
              "      <td>400</td>\n",
              "      <td>3.476800</td>\n",
              "      <td>3.385227</td>\n",
              "    </tr>\n",
              "  </tbody>\n",
              "</table><p>"
            ]
          },
          "metadata": {}
        },
        {
          "output_type": "stream",
          "name": "stderr",
          "text": [
            "/usr/local/lib/python3.10/dist-packages/torch/utils/checkpoint.py:429: UserWarning: torch.utils.checkpoint: please pass in use_reentrant=True or use_reentrant=False explicitly. The default value of use_reentrant will be updated to be False in the future. To maintain current behavior, pass use_reentrant=True. It is recommended that you use use_reentrant=False. Refer to docs for more details on the differences between the two variants.\n",
            "  warnings.warn(\n"
          ]
        },
        {
          "output_type": "stream",
          "name": "stdout",
          "text": [
            "trainable params: 9437184 || all params: 133876992 || trainable%: 7.049145532041831\n"
          ]
        }
      ],
      "source": [
        "seed = 42\n",
        "torch.manual_seed(seed)\n",
        "if torch.cuda.is_available():\n",
        "    torch.cuda.manual_seed_all(seed)\n",
        "\n",
        "for hyperparam in hyperparams:\n",
        "  config = LoraConfig(\n",
        "      r=hyperparam, # THIS IS THE HYPERPARAMETER\n",
        "      lora_alpha=128,\n",
        "      lora_dropout=0.05,\n",
        "      bias=\"none\",\n",
        "      task_type=\"CAUSAL_LM\"\n",
        "  )\n",
        "  model = GPT2LMHeadModel.from_pretrained('gpt2')\n",
        "  # Freezing the model\n",
        "  for param in model.parameters():\n",
        "    param.requires_grad = False\n",
        "    if param.ndim == 1:\n",
        "      param.data = param.data.to(torch.float32)\n",
        "\n",
        "  model.gradient_checkpointing_enable()\n",
        "  model.enable_input_require_grads()\n",
        "  model.lm_head = CastOutputToFloat(model.lm_head)\n",
        "  model = get_peft_model(model, config)\n",
        "  trainer = transformers.Trainer(\n",
        "      model=model,\n",
        "      train_dataset=train_data,\n",
        "      eval_dataset=val_data,\n",
        "      args=transformers.TrainingArguments(\n",
        "          per_device_train_batch_size=4,\n",
        "          gradient_accumulation_steps=4,\n",
        "          warmup_steps=100,\n",
        "          max_steps=400,\n",
        "          learning_rate=2e-4,\n",
        "          fp16=True,\n",
        "          logging_steps=1,\n",
        "          evaluation_strategy=\"steps\",\n",
        "          eval_steps=20,\n",
        "          output_dir='outputs',\n",
        "          save_steps=250,\n",
        "      ),\n",
        "      data_collator=transformers.DataCollatorForLanguageModeling(tokenizer, mlm=False)\n",
        "  )\n",
        "  model.config.use_cache = False\n",
        "  trainer.train()\n",
        "\n",
        "  res = print_trainable_parameters(model)\n",
        "  numParamsInfo[hyperparam] = res[0]\n",
        "  numParamsTrained[hyperparam] = res[1]\n",
        "\n",
        "  # populating data dictionaries\n",
        "  for i, x in enumerate(trainer.state.log_history[:-1]):\n",
        "    if (i+1) % 21 == 0:\n",
        "      validation_losses[hyperparam].append(x[\"eval_loss\"])\n",
        "    else:\n",
        "      training_losses[hyperparam].append(x[\"loss\"])\n",
        "  training_losses[hyperparam] = [sum(training_losses[hyperparam][i:i+20]) / 20 for i in range(0, len(training_losses[hyperparam]), 20)]\n"
      ]
    },
    {
      "cell_type": "markdown",
      "source": [
        "# Testing Model"
      ],
      "metadata": {
        "id": "Hc9EDwR-F62E"
      }
    },
    {
      "cell_type": "code",
      "execution_count": null,
      "metadata": {
        "id": "XFCKFpc-Envp",
        "colab": {
          "base_uri": "https://localhost:8080/"
        },
        "outputId": "5a0c10eb-94d7-4e49-97a4-e71e4279b434"
      },
      "outputs": [
        {
          "output_type": "stream",
          "name": "stderr",
          "text": [
            "/usr/local/lib/python3.10/dist-packages/transformers/generation/utils.py:1473: UserWarning: You have modified the pretrained model configuration to control generation. This is a deprecated strategy to control generation and will be removed soon, in a future version. Please use and modify the model generation configuration (see https://huggingface.co/docs/transformers/generation_strategies#default-text-generation-configuration )\n",
            "  warnings.warn(\n",
            "Setting `pad_token_id` to `eos_token_id`:50256 for open-end generation.\n"
          ]
        },
        {
          "output_type": "stream",
          "name": "stdout",
          "text": [
            "Output:\n",
            "----------------------------------------------------------------------------------------------------\n",
            "0: How did you solve the murder mystery with Watson? ->: _____ The murder mystery with Watson was solved, after some time. I think that the explanation for his sudden disappearance would be similar to that of a thief. He was caught on a motorcycle riding through parts of the city on his bicycle. He died in the middle of the night, on his way home to his home near Houghton, Scotland. His wife was not there. There was a brief but violent argument. The man was found dead and his body was discovered in the parking lot of an\n"
          ]
        }
      ],
      "source": [
        "set_seed(40)\n",
        "\n",
        "device = model.device\n",
        "batch = tokenizer(\"How did you solve the murder mystery with Watson? ->: \", return_tensors='pt')\n",
        "batch.to(device)\n",
        "\n",
        "sample_outputs = model.generate(\n",
        "    **batch,\n",
        "    max_new_tokens=100,\n",
        "    do_sample=True,\n",
        "    top_k=50,\n",
        "    top_p=0.95,\n",
        "    num_return_sequences=1,\n",
        ")\n",
        "\n",
        "print(\"Output:\\n\" + 100 * '-')\n",
        "for i, sample_output in enumerate(sample_outputs):\n",
        "  print(\"{}: {}\".format(i, tokenizer.decode(sample_output, skip_special_tokens=True)))\n"
      ]
    },
    {
      "cell_type": "markdown",
      "source": [
        "# Analyzing Results"
      ],
      "metadata": {
        "id": "upnyYSNlF-7z"
      }
    },
    {
      "cell_type": "code",
      "execution_count": null,
      "metadata": {
        "id": "D6gbTJ_wv_h0",
        "colab": {
          "base_uri": "https://localhost:8080/",
          "height": 1000
        },
        "outputId": "3a1dd7ea-678c-42cf-d144-ee3d092a8f6e"
      },
      "outputs": [
        {
          "output_type": "display_data",
          "data": {
            "text/plain": [
              "<Figure size 800x600 with 1 Axes>"
            ],
            "image/png": "[encoded data removed]"
          },
          "metadata": {}
        },
        {
          "output_type": "display_data",
          "data": {
            "text/plain": [
              "<Figure size 800x600 with 1 Axes>"
            ],
            "image/png": "[encoded data removed]"
          },
          "metadata": {}
        }
      ],
      "source": [
        "colors = [\"red\", \"orange\", \"blue\", \"green\", \"purple\", \"black\"]\n",
        "\n",
        "#Training Loss\n",
        "plt.figure(figsize=(8, 6))\n",
        "for i in range(len(hyperparams)):\n",
        "    plt.plot(training_losses[hyperparams[i]], label=f\"Training Loss for LoRA Rank = {hyperparams[i]}\", color=colors[i])\n",
        "\n",
        "plt.xticks([0, 5, 10, 15, 20], [0, 100, 200, 300, 400])\n",
        "plt.xlabel(\"Number of Steps\")\n",
        "plt.ylabel(\"Cross Entropy Loss\")\n",
        "plt.title(\"Training Cross Entropy Loss Curve for different LoRA ranks\")\n",
        "plt.legend()\n",
        "plt.show()\n",
        "\n",
        "\n",
        "#Validation Loss\n",
        "plt.figure(figsize=(8, 6))\n",
        "for i in range(len(hyperparams)):\n",
        "    plt.plot(validation_losses[hyperparams[i]], label=f\"Validation Loss for LoRA Rank = {hyperparams[i]}\", color=colors[i])\n",
        "\n",
        "plt.xticks([0, 5, 10, 15, 20], [0, 100, 200, 300, 400])\n",
        "plt.xlabel(\"Number of Steps\")\n",
        "plt.ylabel(\"Cross Entropy Loss\")\n",
        "plt.title(\"Validation Cross Entropy Loss Curve for different LoRA ranks\")\n",
        "plt.legend()\n",
        "plt.show()"
      ]
    },
    {
      "cell_type": "code",
      "source": [
        "#Number of trainable parameters per model\n",
        "\n",
        "for hyperparam in hyperparams:\n",
        "  print(\"LoRA Rank of \", hyperparam)\n",
        "  print(numParamsInfo[hyperparam]) #percentage of trainable parameters\n",
        "  print(numParamsTrained[hyperparam]) #number of trainable parameters\n",
        "  print(\"\\n\")\n"
      ],
      "metadata": {
        "colab": {
          "base_uri": "https://localhost:8080/"
        },
        "id": "nmuUAzaUarZC",
        "outputId": "af2423e1-98d5-4c97-dbca-e6230adc6005"
      },
      "execution_count": null,
      "outputs": [
        {
          "output_type": "stream",
          "name": "stdout",
          "text": [
            "LoRA Rank of  2\n",
            "0.05921283931732531\n",
            "73728\n",
            "\n",
            "\n",
            "LoRA Rank of  4\n",
            "0.11835559692522023\n",
            "147456\n",
            "\n",
            "\n",
            "LoRA Rank of  16\n",
            "0.4717473694555863\n",
            "589824\n",
            "\n",
            "\n",
            "LoRA Rank of  64\n",
            "1.8606566809809635\n",
            "2359296\n",
            "\n",
            "\n",
            "LoRA Rank of  128\n",
            "3.653337297458005\n",
            "4718592\n",
            "\n",
            "\n",
            "LoRA Rank of  256\n",
            "7.049145532041831\n",
            "9437184\n",
            "\n",
            "\n"
          ]
        }
      ]
    }
  ],
  "metadata": {
    "accelerator": "GPU",
    "colab": {
      "provenance": [],
      "gpuType": "T4"
    },
    "kernelspec": {
      "display_name": "Python 3",
      "name": "python3"
    },
    "language_info": {
      "name": "python"
    }
  },
  "nbformat": 4,
  "nbformat_minor": 0
}